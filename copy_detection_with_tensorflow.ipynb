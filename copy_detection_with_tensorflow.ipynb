{
 "cells": [
  {
   "cell_type": "code",
   "execution_count": 190,
   "metadata": {
    "collapsed": true
   },
   "outputs": [],
   "source": [
    "import tensorflow as tf\n",
    "from __future__ import print_function\n",
    "from tensorflow.examples.tutorials.mnist import input_data\n",
    "import os\n",
    "import matplotlib.pyplot as plt\n",
    "from scipy import misc\n",
    "import scipy\n",
    "import random\n",
    "import numpy as np"
   ]
  },
  {
   "cell_type": "code",
   "execution_count": 6,
   "metadata": {
    "collapsed": true
   },
   "outputs": [],
   "source": [
    "my_path = \"practice_images/\"\n",
    "my_files = []\n",
    "\n",
    "for (dirpath, dirnames, filenames) in os.walk(my_path):\n",
    "    my_files.extend(filenames)\n",
    "    break\n",
    "\n",
    "my_files = [\"image1.png\"]\n",
    "my_tensor_files = tf.convert_to_tensor(my_files)\n",
    "file_reader = tf.WholeFileReader()\n",
    "my_tensor_queue = tf.train.string_input_producer(my_tensor_files)\n",
    "\n",
    "#read one file\n",
    "key, image_file = file_reader.read(my_tensor_queue)\n",
    "tensor_image = tf.image.decode_png(image_file)\n",
    "\n",
    "\n"
   ]
  },
  {
   "cell_type": "code",
   "execution_count": 216,
   "metadata": {},
   "outputs": [],
   "source": [
    "class input_structure(object):\n",
    "    \n",
    "    def __init__(self, source_path, image_path):\n",
    "        self.source_path = source_path\n",
    "        self.source_image = misc.imread(source_path)\n",
    "        self.image_path = image_path\n",
    "        self.image = misc.imread(image_path)\n",
    "        \n",
    "    def get_label(self):\n",
    "        if self.source_path == self.image_path:\n",
    "            return one_hot(0, 2)\n",
    "        else:\n",
    "            return one_hot(1, 2)\n",
    "        \n",
    "            \n",
    "    def get_input_vector(self):\n",
    "        return np.vstack([misc.imresize(self.source_image, (60,100)) ,\n",
    "                          misc.imresize(generate_cut(self.image), (60,100))])\n",
    "    \n",
    "# paths = [\"sources/\", \"not_sources/\"]\n",
    "# A = input_structure(paths[0] + \"image9.jpg\", paths[0] + \"image9.jpg\")\n",
    "# print(A.get_label())\n",
    "# print(A.get_input_vector())\n",
    "    \n",
    "\n",
    "        \n",
    "        "
   ]
  },
  {
   "cell_type": "code",
   "execution_count": 140,
   "metadata": {
    "collapsed": true
   },
   "outputs": [],
   "source": [
    "def limit(a, b):\n",
    "    if a < b:\n",
    "        return a\n",
    "    else: return b\n",
    "    \n",
    "def generate_cut(image_matrix):\n",
    "    x,y = image_matrix.shape[:2]\n",
    "    x_start = random.randint(0, int(x/2))\n",
    "    y_start = random.randint(0, int(y/2))\n",
    "    x_end = limit(x_start + int(x/2) + random.randint(0, int(x/16)), x)\n",
    "    y_end = limit(y_start + int(y/2) + random.randint(0, int(y/16)), y)\n",
    "    image_cut = image_matrix[x_start:x_end, y_start:y_end]\n",
    "    return image_cut\n",
    "\n",
    "def one_hot(x, len_ls):\n",
    "    a = np.zeros(len_ls, 'uint8')\n",
    "    a[x] = 1\n",
    "    return a\n",
    "\n",
    "# def gen_file_dict(my_files):\n",
    "#     my_labels = {}\n",
    "#     file_num = 0\n",
    "#     for file in my_files:\n",
    "#         my_labels[file] = one_hot(file_num, len(my_files))\n",
    "#         file_num = file_num + 1\n",
    "#     return my_labels"
   ]
  },
  {
   "cell_type": "code",
   "execution_count": 222,
   "metadata": {},
   "outputs": [
    {
     "name": "stderr",
     "output_type": "stream",
     "text": [
      "C:\\Users\\pgarciagonzalez\\AppData\\Local\\conda\\conda\\envs\\tensorflow\\lib\\site-packages\\ipykernel_launcher.py:5: DeprecationWarning: `imread` is deprecated!\n",
      "`imread` is deprecated in SciPy 1.0.0, and will be removed in 1.2.0.\n",
      "Use ``imageio.imread`` instead.\n",
      "  \"\"\"\n",
      "C:\\Users\\pgarciagonzalez\\AppData\\Local\\conda\\conda\\envs\\tensorflow\\lib\\site-packages\\ipykernel_launcher.py:7: DeprecationWarning: `imread` is deprecated!\n",
      "`imread` is deprecated in SciPy 1.0.0, and will be removed in 1.2.0.\n",
      "Use ``imageio.imread`` instead.\n",
      "  import sys\n",
      "C:\\Users\\pgarciagonzalez\\AppData\\Local\\conda\\conda\\envs\\tensorflow\\lib\\site-packages\\ipykernel_launcher.py:17: DeprecationWarning: `imresize` is deprecated!\n",
      "`imresize` is deprecated in SciPy 1.0.0, and will be removed in 1.2.0.\n",
      "Use ``skimage.transform.resize`` instead.\n",
      "C:\\Users\\pgarciagonzalez\\AppData\\Local\\conda\\conda\\envs\\tensorflow\\lib\\site-packages\\ipykernel_launcher.py:18: DeprecationWarning: `imresize` is deprecated!\n",
      "`imresize` is deprecated in SciPy 1.0.0, and will be removed in 1.2.0.\n",
      "Use ``skimage.transform.resize`` instead.\n",
      "C:\\Users\\pgarciagonzalez\\AppData\\Local\\conda\\conda\\envs\\tensorflow\\lib\\site-packages\\ipykernel_launcher.py:18: DeprecationWarning: `toimage` is deprecated!\n",
      "`toimage` is deprecated in SciPy 1.0.0, and will be removed in 1.2.0.\n",
      "Use Pillow's ``Image.fromarray`` directly instead.\n"
     ]
    },
    {
     "data": {
      "image/png": "[encoded data removed]",
      "text/plain": [
       "<PIL.Image.Image image mode=RGB size=100x120 at 0x2AF85E12710>"
      ]
     },
     "execution_count": 222,
     "metadata": {},
     "output_type": "execute_result"
    }
   ],
   "source": [
    "my_paths = [\"sources/\", \"not_sources/\"]\n",
    "my_files_paths = []\n",
    "image_tuples = []\n",
    "#mode=\"L\"\n",
    "\n",
    "for path in my_paths:\n",
    "    for (dirpath, dirnames, filenames) in os.walk(path):\n",
    "        my_files_paths.extend([ path + file for file in filenames])\n",
    "        break\n",
    "\n",
    "for file_path in my_files_paths:\n",
    "    \n",
    "    for i in range(500):\n",
    "        new_structure = input_structure(file_path, file_path)\n",
    "        image_tuples.append((new_structure.get_input_vector(), new_structure.get_label()))\n",
    "    break\n",
    "    \n",
    "    for j in range(500)\n",
    "        \n",
    "misc.toimage(image_tuples[9][0])"
   ]
  },
  {
   "cell_type": "code",
   "execution_count": 225,
   "metadata": {},
   "outputs": [
    {
     "name": "stderr",
     "output_type": "stream",
     "text": [
      "C:\\Users\\pgarciagonzalez\\AppData\\Local\\conda\\conda\\envs\\tensorflow\\lib\\site-packages\\ipykernel_launcher.py:1: DeprecationWarning: `toimage` is deprecated!\n",
      "`toimage` is deprecated in SciPy 1.0.0, and will be removed in 1.2.0.\n",
      "Use Pillow's ``Image.fromarray`` directly instead.\n",
      "  \"\"\"Entry point for launching an IPython kernel.\n"
     ]
    },
    {
     "data": {
      "image/png": "[encoded data removed]",
      "text/plain": [
       "<PIL.Image.Image image mode=RGB size=100x120 at 0x2AF85C93358>"
      ]
     },
     "execution_count": 225,
     "metadata": {},
     "output_type": "execute_result"
    }
   ],
   "source": [
    "misc.toimage(image_tuples[456][0])"
   ]
  },
  {
   "cell_type": "code",
   "execution_count": 201,
   "metadata": {},
   "outputs": [
    {
     "data": {
      "text/plain": [
       "numpy.ndarray"
      ]
     },
     "execution_count": 201,
     "metadata": {},
     "output_type": "execute_result"
    }
   ],
   "source": [
    "A = image_tuples[1][0]\n",
    "B = image_tuples[3][0]\n",
    "C = np.vstack([A, B])\n",
    "type(C)"
   ]
  },
  {
   "cell_type": "code",
   "execution_count": 185,
   "metadata": {},
   "outputs": [],
   "source": [
    "num_batches = 50\n",
    "def create_input(images, num_batches, mode):\n",
    "    ran_image_tuples = [(a.ravel()/255, np.asarray(b, dtype=\"float32\")) for a,b in images]\n",
    "    ran_image_lists = list(map(list, zip(*ran_image_tuples)))\n",
    "    if mode == \"train\":\n",
    "        input_batches_list = np.array_split(np.vstack(ran_image_lists[0]), num_batches)\n",
    "        label_batches_list = np.array_split(np.vstack(ran_image_lists[1]), num_batches)\n",
    "    elif mode == \"test\":\n",
    "        input_batches_list = np.vstack(ran_image_lists[0])\n",
    "        label_batches_list = np.vstack(ran_image_lists[1])\n",
    "    else:\n",
    "        print(\"te estas inventando el modo o se te ha olvidado\")\n",
    "        return\n",
    "    return input_batches_list, label_batches_list\n",
    "\n",
    "random.shuffle(image_tuples)\n",
    "threshold = int(len(image_tuples)*0.8)\n",
    "train_image_tuples = image_tuples[0:threshold]\n",
    "test_image_tuples = image_tuples[threshold:]\n",
    "X_train, Y_train = create_input(train_image_tuples, num_batches, mode=\"train\")\n",
    "X_test, Y_test = create_input(test_image_tuples, num_batches, mode=\"test\")\n"
   ]
  },
  {
   "cell_type": "code",
   "execution_count": 186,
   "metadata": {},
   "outputs": [],
   "source": [
    "x_im = 60\n",
    "y_im = 100\n",
    "pixel_im = 3\n",
    "output_dim = 8\n",
    "\n",
    "x = tf.placeholder(tf.float32, [None, x_im*y_im*pixel_im])\n",
    "W = tf.Variable(tf.zeros([x_im*y_im*pixel_im, output_dim]))\n",
    "b = tf.Variable(tf.zeros([output_dim]))\n",
    "\n",
    "y = tf.nn.softmax(tf.matmul(x, W) + b)\n",
    "\n",
    "y_actual = tf.placeholder(tf.float32, [None, output_dim])\n",
    "\n",
    "cross_entropy = tf.reduce_mean(\n",
    "              tf.nn.softmax_cross_entropy_with_logits(labels=y_actual, logits=y))\n",
    "train_step = tf.train.AdamOptimizer(1e-4).minimize(cross_entropy)\n",
    "\n",
    "sess = tf.InteractiveSession()\n",
    "\n",
    "tf.global_variables_initializer().run()\n",
    "\n",
    "for j in range(40):\n",
    "    for i in range(num_batches):\n",
    "        batch_xs, batch_ys = X_train[i], Y_train[i]\n",
    "        sess.run(train_step, feed_dict={x: batch_xs, y_actual: batch_ys})\n",
    "\n"
   ]
  },
  {
   "cell_type": "code",
   "execution_count": 189,
   "metadata": {},
   "outputs": [
    {
     "name": "stdout",
     "output_type": "stream",
     "text": [
      "0.855625\n"
     ]
    },
    {
     "ename": "AttributeError",
     "evalue": "'Tensor' object has no attribute 'std'",
     "output_type": "error",
     "traceback": [
      "\u001b[1;31m---------------------------------------------------------------------------\u001b[0m",
      "\u001b[1;31mAttributeError\u001b[0m                            Traceback (most recent call last)",
      "\u001b[1;32m<ipython-input-189-583fc1614221>\u001b[0m in \u001b[0;36m<module>\u001b[1;34m()\u001b[0m\n\u001b[0;32m      3\u001b[0m \u001b[1;33m\u001b[0m\u001b[0m\n\u001b[0;32m      4\u001b[0m \u001b[0mprint\u001b[0m\u001b[1;33m(\u001b[0m\u001b[0msess\u001b[0m\u001b[1;33m.\u001b[0m\u001b[0mrun\u001b[0m\u001b[1;33m(\u001b[0m\u001b[0maccuracy\u001b[0m\u001b[1;33m,\u001b[0m \u001b[0mfeed_dict\u001b[0m\u001b[1;33m=\u001b[0m\u001b[1;33m{\u001b[0m\u001b[0mx\u001b[0m\u001b[1;33m:\u001b[0m \u001b[0mX_test\u001b[0m\u001b[1;33m,\u001b[0m \u001b[0my_actual\u001b[0m\u001b[1;33m:\u001b[0m \u001b[0mY_test\u001b[0m\u001b[1;33m}\u001b[0m\u001b[1;33m)\u001b[0m\u001b[1;33m)\u001b[0m\u001b[1;33m\u001b[0m\u001b[0m\n\u001b[1;32m----> 5\u001b[1;33m \u001b[0mprint\u001b[0m\u001b[1;33m(\u001b[0m\u001b[0msess\u001b[0m\u001b[1;33m.\u001b[0m\u001b[0mrun\u001b[0m\u001b[1;33m(\u001b[0m\u001b[0mx\u001b[0m\u001b[1;33m.\u001b[0m\u001b[0mstd\u001b[0m\u001b[1;33m(\u001b[0m\u001b[1;33m)\u001b[0m\u001b[1;33m,\u001b[0m \u001b[0mfeed_dict\u001b[0m\u001b[1;33m=\u001b[0m\u001b[1;33m{\u001b[0m\u001b[0mx\u001b[0m\u001b[1;33m:\u001b[0m \u001b[0mX_test\u001b[0m\u001b[1;33m,\u001b[0m \u001b[0my_actual\u001b[0m\u001b[1;33m:\u001b[0m \u001b[0mY_test\u001b[0m\u001b[1;33m}\u001b[0m\u001b[1;33m)\u001b[0m\u001b[1;33m)\u001b[0m\u001b[1;33m\u001b[0m\u001b[0m\n\u001b[0m",
      "\u001b[1;31mAttributeError\u001b[0m: 'Tensor' object has no attribute 'std'"
     ]
    }
   ],
   "source": [
    "correct_prediction = tf.equal(tf.argmax(y,1), tf.argmax(y_actual,1))\n",
    "accuracy = tf.reduce_mean(tf.cast(correct_prediction, tf.float32))\n",
    "\n",
    "print(sess.run(accuracy, feed_dict={x: X_test, y_actual: Y_test}))\n",
    "print(sess.run(x, feed_dict={x: X_test, y_actual: Y_test}))"
   ]
  },
  {
   "cell_type": "code",
   "execution_count": null,
   "metadata": {
    "collapsed": true
   },
   "outputs": [],
   "source": [
    "#convolutional network\n",
    "[0 0 1], [0 1 0]\n",
    "2, 1\n",
    "2 == 1\n",
    "\n"
   ]
  },
  {
   "cell_type": "code",
   "execution_count": 148,
   "metadata": {},
   "outputs": [
    {
     "data": {
      "text/plain": [
       "40"
      ]
     },
     "execution_count": 148,
     "metadata": {},
     "output_type": "execute_result"
    }
   ],
   "source": [
    "len(test_image_tuples)"
   ]
  },
  {
   "cell_type": "code",
   "execution_count": 175,
   "metadata": {},
   "outputs": [
    {
     "name": "stderr",
     "output_type": "stream",
     "text": [
      "C:\\Users\\pgarciagonzalez\\AppData\\Local\\conda\\conda\\envs\\tensorflow\\lib\\site-packages\\ipykernel_launcher.py:2: DeprecationWarning: `toimage` is deprecated!\n",
      "`toimage` is deprecated in SciPy 1.0.0, and will be removed in 1.2.0.\n",
      "Use Pillow's ``Image.fromarray`` directly instead.\n",
      "  \n"
     ]
    },
    {
     "data": {
      "text/plain": [
       "(None,\n",
       " array([ 0.,  0.,  0.,  0.,  0.,  1.,  0.,  0.], dtype=float32),\n",
       " array([0, 0, 0, 0, 0, 1, 0, 0], dtype=uint8))"
      ]
     },
     "execution_count": 175,
     "metadata": {},
     "output_type": "execute_result"
    }
   ],
   "source": [
    "pos = 234\n",
    "A = misc.toimage((X_test[pos]*255).reshape(60, 100, 3))\n",
    "A.show(), Y_test[pos], labels[\"image7.jpg\"]"
   ]
  },
  {
   "cell_type": "code",
   "execution_count": 87,
   "metadata": {},
   "outputs": [],
   "source": [
    "A = [(a.ravel(), np.asarray(b, dtype=\"float32\")) for a,b in image_tuples]\n",
    "B = list(map(list, zip(*A)))"
   ]
  },
  {
   "cell_type": "code",
   "execution_count": 161,
   "metadata": {},
   "outputs": [
    {
     "data": {
      "text/plain": [
       "array([ 0.,  1.,  0.,  0.,  0.,  0.,  0.,  0.], dtype=float32)"
      ]
     },
     "execution_count": 161,
     "metadata": {},
     "output_type": "execute_result"
    }
   ],
   "source": [
    "Y_test[0], labels[]"
   ]
  },
  {
   "cell_type": "code",
   "execution_count": 164,
   "metadata": {},
   "outputs": [
    {
     "data": {
      "text/plain": [
       "array([ 0.24705882,  0.36078431,  0.49411765, ...,  0.34117647,\n",
       "        0.41176471,  0.49411765])"
      ]
     },
     "execution_count": 164,
     "metadata": {},
     "output_type": "execute_result"
    }
   ],
   "source": [
    "X_test[0]"
   ]
  },
  {
   "cell_type": "code",
   "execution_count": 183,
   "metadata": {},
   "outputs": [
    {
     "name": "stderr",
     "output_type": "stream",
     "text": [
      "C:\\Users\\pgarciagonzalez\\AppData\\Local\\conda\\conda\\envs\\tensorflow\\lib\\site-packages\\ipykernel_launcher.py:1: DeprecationWarning: `toimage` is deprecated!\n",
      "`toimage` is deprecated in SciPy 1.0.0, and will be removed in 1.2.0.\n",
      "Use Pillow's ``Image.fromarray`` directly instead.\n",
      "  \"\"\"Entry point for launching an IPython kernel.\n"
     ]
    },
    {
     "data": {
      "image/png": "[encoded data removed]",
      "text/plain": [
       "<PIL.Image.Image image mode=RGB size=100x60 at 0x2AF3E210828>"
      ]
     },
     "execution_count": 183,
     "metadata": {},
     "output_type": "execute_result"
    }
   ],
   "source": [
    "misc.toimage(image_tuples[2567][0])"
   ]
  },
  {
   "cell_type": "code",
   "execution_count": null,
   "metadata": {
    "collapsed": true
   },
   "outputs": [],
   "source": []
  }
 ],
 "metadata": {
  "kernelspec": {
   "display_name": "Python 3",
   "language": "python",
   "name": "python3"
  },
  "language_info": {
   "codemirror_mode": {
    "name": "ipython",
    "version": 3
   },
   "file_extension": ".py",
   "mimetype": "text/x-python",
   "name": "python",
   "nbconvert_exporter": "python",
   "pygments_lexer": "ipython3",
   "version": "3.5.3"
  }
 },
 "nbformat": 4,
 "nbformat_minor": 2
}
