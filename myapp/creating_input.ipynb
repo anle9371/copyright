{
 "cells": [
  {
   "cell_type": "code",
   "execution_count": 1,
   "metadata": {
    "collapsed": true
   },
   "outputs": [],
   "source": [
    "from PIL import Image\n",
    "from scipy import misc\n",
    "import os\n",
    "import matplotlib.pyplot as plt\n",
    "import random\n",
    "import numpy as np"
   ]
  },
  {
   "cell_type": "code",
   "execution_count": 2,
   "metadata": {
    "collapsed": true
   },
   "outputs": [],
   "source": [
    "def limit(a, b):\n",
    "    if a < b:\n",
    "        return a\n",
    "    else: return b\n",
    "    \n",
    "def generate_cut(image_matrix):\n",
    "    x,y = image_matrix.shape[:2]\n",
    "    x_start = random.randint(0, int(x/2))\n",
    "    y_start = random.randint(0, int(y/2))\n",
    "    x_end = limit(x_start + int(x/2) + random.randint(0, int(x/16)), x)\n",
    "    y_end = limit(y_start + int(y/2) + random.randint(0, int(y/16)), y)\n",
    "    image_cut = image_matrix[x_start:x_end, y_start:y_end]\n",
    "    return image_cut\n",
    "\n",
    "# def rotate(image_matrix):\n",
    "# def change_colors(image_matrix):\n",
    "#...\n",
    "#we can write here our own image transformations\n",
    "    "
   ]
  },
  {
   "cell_type": "code",
   "execution_count": 5,
   "metadata": {
    "collapsed": true
   },
   "outputs": [],
   "source": [
    "#create a carpet with all the sources carpets --> source_training\n",
    "root_folder = \"/mnt/source_training\"\n",
    "test_folder = \"/mnt/test\"\n",
    "\n",
    "os.makedirs(root_folder)\n",
    "os.makedirs(test_folder)"
   ]
  },
  {
   "cell_type": "code",
   "execution_count": 6,
   "metadata": {},
   "outputs": [
    {
     "name": "stderr",
     "output_type": "stream",
     "text": [
      "/usr/local/lib/python2.7/dist-packages/ipykernel_launcher.py:25: DeprecationWarning: `imread` is deprecated!\n",
      "`imread` is deprecated in SciPy 1.0.0, and will be removed in 1.2.0.\n",
      "Use ``imageio.imread`` instead.\n",
      "/usr/local/lib/python2.7/dist-packages/ipykernel_launcher.py:42: DeprecationWarning: `imread` is deprecated!\n",
      "`imread` is deprecated in SciPy 1.0.0, and will be removed in 1.2.0.\n",
      "Use ``imageio.imread`` instead.\n"
     ]
    }
   ],
   "source": [
    "#get sorces an generate 200 cuts for each source\n",
    "#the store every cut in its corresponding source folder\n",
    "\n",
    "sources_path = \"/mnt/gcs/sources\"\n",
    "not_sources_path = \"/mnt/gcs/not_sources/test\"\n",
    "\n",
    "# get all the sources from the path\n",
    "sources = []\n",
    "for (dirpath, dirnames, filenames) in os.walk(sources_path):\n",
    "    sources.extend([sources_path + \"/\" + file for file in filenames])\n",
    "    break\n",
    "    \n",
    "not_sources = []\n",
    "for (dirpath, dirnames, filenames) in os.walk(not_sources_path):\n",
    "    not_sources.extend([not_sources_path + \"/\" + file for file in filenames])\n",
    "    break\n",
    "    \n",
    "# for each source create a subfolder of source_training and store the cuts\n",
    "copies = 200\n",
    "for i,source in enumerate(sources):\n",
    "    source_directory = os.path.join(root_folder, \"class_\" + str(i))\n",
    "    test_directory = os.path.join(test_folder, \"class_\" + str(i))\n",
    "    os.makedirs(source_directory)\n",
    "    os.makedirs(test_directory)\n",
    "    image = misc.imread(source)\n",
    "    for copy in range(copies):\n",
    "        image_cut = generate_cut(image)\n",
    "        im = Image.fromarray(image_cut)\n",
    "        im.save(os.path.join(source_directory, \"copy_\" + str(copy) + \".jpg\"))\n",
    "    for k in range(10):\n",
    "        test_cut = image_cut = generate_cut(image)\n",
    "        im_test = Image.fromarray(test_cut)\n",
    "        im_test.save(os.path.join(test_directory, \"test_copy_\" + str(k) + \".jpg\"))\n",
    "        \n",
    "#create another class for not_sources\n",
    "not_source_directory = os.path.join(root_folder, \"class_\" + str(len(sources)))\n",
    "test_directory_not = os.path.join(test_folder, \"class_\" + str(len(sources)))\n",
    "os.makedirs(not_source_directory) \n",
    "os.makedirs(test_directory_not)\n",
    "for i,not_source in enumerate(not_sources):\n",
    "    for copy in range(copies):\n",
    "        image_cut = generate_cut(misc.imread(not_source))\n",
    "        im = Image.fromarray(image_cut)\n",
    "        im.save(os.path.join(not_source_directory, \"copy_\" + str(i) + \"_\" + str(copy) + \".jpg\")) \n",
    "    for k in range(10):\n",
    "        test_cut = image_cut = generate_cut(image)\n",
    "        im_test = Image.fromarray(test_cut)\n",
    "        im_test.save(os.path.join(test_directory_not, \"test_copy_\" + str(k) + \".jpg\"))\n"
   ]
  },
  {
   "cell_type": "code",
   "execution_count": 14,
   "metadata": {},
   "outputs": [
    {
     "name": "stdout",
     "output_type": "stream",
     "text": [
      "class_0   class_19  class_29  class_39\tclass_49  class_59  class_69  class_79\r\n",
      "class_1   class_2   class_3   class_4\tclass_5   class_6   class_7   class_8\r\n",
      "class_10  class_20  class_30  class_40\tclass_50  class_60  class_70  class_80\r\n",
      "class_11  class_21  class_31  class_41\tclass_51  class_61  class_71  class_81\r\n",
      "class_12  class_22  class_32  class_42\tclass_52  class_62  class_72  class_9\r\n",
      "class_13  class_23  class_33  class_43\tclass_53  class_63  class_73\r\n",
      "class_14  class_24  class_34  class_44\tclass_54  class_64  class_74\r\n",
      "class_15  class_25  class_35  class_45\tclass_55  class_65  class_75\r\n",
      "class_16  class_26  class_36  class_46\tclass_56  class_66  class_76\r\n",
      "class_17  class_27  class_37  class_47\tclass_57  class_67  class_77\r\n",
      "class_18  class_28  class_38  class_48\tclass_58  class_68  class_78\r\n"
     ]
    }
   ],
   "source": [
    "!ls source_training"
   ]
  },
  {
   "cell_type": "code",
   "execution_count": 18,
   "metadata": {},
   "outputs": [
    {
     "name": "stdout",
     "output_type": "stream",
     "text": [
      "creating_input.ipynb  gcs  source_training  test\r\n"
     ]
    }
   ],
   "source": [
    "!ls"
   ]
  },
  {
   "cell_type": "code",
   "execution_count": 20,
   "metadata": {},
   "outputs": [
    {
     "name": "stdout",
     "output_type": "stream",
     "text": [
      "mv: cannot create regular file '/mnt/gcs/inception/source_training/class_2/copy_199.jpg': Input/output error\n",
      "mv: failed to close '/mnt/gcs/inception/source_training/class_4/copy_196.jpg': Input/output error\n",
      "mv: failed to close '/mnt/gcs/inception/source_training/class_8/copy_88.jpg': Input/output error\n",
      "mv: cannot create regular file '/mnt/gcs/inception/source_training/class_12/copy_46.jpg': Input/output error\n",
      "mv: failed to close '/mnt/gcs/inception/source_training/class_12/copy_162.jpg': Input/output error\n",
      "mv: failed to close '/mnt/gcs/inception/source_training/class_13/copy_9.jpg': Input/output error\n",
      "mv: cannot create regular file '/mnt/gcs/inception/source_training/class_14/copy_107.jpg': Input/output error\n",
      "mv: cannot create regular file '/mnt/gcs/inception/source_training/class_16/copy_102.jpg': Input/output error\n",
      "mv: cannot create regular file '/mnt/gcs/inception/source_training/class_17/copy_31.jpg': Input/output error\n",
      "mv: failed to close '/mnt/gcs/inception/source_training/class_23/copy_109.jpg': Input/output error\n",
      "mv: cannot create regular file '/mnt/gcs/inception/source_training/class_27/copy_36.jpg': Input/output error\n",
      "mv: cannot create regular file '/mnt/gcs/inception/source_training/class_28/copy_140.jpg': Input/output error\n",
      "mv: cannot create regular file '/mnt/gcs/inception/source_training/class_43/copy_111.jpg': Input/output error\n"
     ]
    }
   ],
   "source": [
    "!cp -a /mnt/source_training/. /mnt/gcs/inception/source_training"
   ]
  },
  {
   "cell_type": "code",
   "execution_count": 21,
   "metadata": {
    "collapsed": true
   },
   "outputs": [],
   "source": [
    "!cp -a /mnt/test/. /mnt/gcs/inception/test"
   ]
  },
  {
   "cell_type": "code",
   "execution_count": 1,
   "metadata": {
    "collapsed": true
   },
   "outputs": [],
   "source": [
    "!cp /tf_files/copyright/retrained* /mnt/gcs/inception/"
   ]
  },
  {
   "cell_type": "code",
   "execution_count": 2,
   "metadata": {
    "collapsed": true
   },
   "outputs": [],
   "source": [
    "!cp -a /tf_files/copyright/inception/. /mnt/gcs/inception/inception"
   ]
  },
  {
   "cell_type": "code",
   "execution_count": null,
   "metadata": {
    "collapsed": true
   },
   "outputs": [],
   "source": []
  }
 ],
 "metadata": {
  "kernelspec": {
   "display_name": "Python 3",
   "language": "python",
   "name": "python3"
  },
  "language_info": {
   "codemirror_mode": {
    "name": "ipython",
    "version": 3
   },
   "file_extension": ".py",
   "mimetype": "text/x-python",
   "name": "python",
   "nbconvert_exporter": "python",
   "pygments_lexer": "ipython3",
   "version": "3.6.1"
  }
 },
 "nbformat": 4,
 "nbformat_minor": 2
}
