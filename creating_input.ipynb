{
 "cells": [
  {
   "cell_type": "code",
   "execution_count": 2,
   "metadata": {},
   "outputs": [],
   "source": [
    "from PIL import Image\n",
    "from scipy import misc\n",
    "import os\n",
    "import matplotlib.pyplot as plt\n",
    "import random\n",
    "import numpy as np"
   ]
  },
  {
   "cell_type": "code",
   "execution_count": 3,
   "metadata": {},
   "outputs": [],
   "source": [
    "def limit(a, b):\n",
    "    if a < b:\n",
    "        return a\n",
    "    else: return b\n",
    "    \n",
    "def generate_cut(image_matrix):\n",
    "    x,y = image_matrix.shape[:2]\n",
    "    x_start = random.randint(0, int(x/2))\n",
    "    y_start = random.randint(0, int(y/2))\n",
    "    x_end = limit(x_start + int(x/2) + random.randint(0, int(x/16)), x)\n",
    "    y_end = limit(y_start + int(y/2) + random.randint(0, int(y/16)), y)\n",
    "    image_cut = image_matrix[x_start:x_end, y_start:y_end]\n",
    "    return image_cut\n",
    "\n",
    "# def rotate(image_matrix):\n",
    "# def change_colors(image_matrix):\n",
    "#...\n",
    "#we can write here our own image transformations\n",
    "    "
   ]
  },
  {
   "cell_type": "code",
   "execution_count": 6,
   "metadata": {},
   "outputs": [
    {
     "name": "stdout",
     "output_type": "stream",
     "text": [
      "/app\n"
     ]
    }
   ],
   "source": [
    "print(os.getcwd())"
   ]
  },
  {
   "cell_type": "code",
   "execution_count": 7,
   "metadata": {},
   "outputs": [],
   "source": [
    "#create a carpet with all the sources carpets --> source_training\n",
    "root_folder = \"source_training\"\n",
    "test_folder = \"test\"\n",
    "\n",
    "os.makedirs(root_folder)\n",
    "os.makedirs(test_folder)"
   ]
  },
  {
   "cell_type": "code",
   "execution_count": null,
   "metadata": {},
   "outputs": [
    {
     "name": "stderr",
     "output_type": "stream",
     "text": [
      "/usr/local/lib/python2.7/dist-packages/ipykernel_launcher.py:25: DeprecationWarning: `imread` is deprecated!\n",
      "`imread` is deprecated in SciPy 1.0.0, and will be removed in 1.2.0.\n",
      "Use ``imageio.imread`` instead.\n"
     ]
    }
   ],
   "source": [
    "#get sorces an generate 200 cuts for each source\n",
    "#the store every cut in its corresponding source folder\n",
    "\n",
    "sources_path = \"/mnt/gcs/sources\"\n",
    "not_sources_path = \"/mnt/gcs/not_sources/test\"\n",
    "\n",
    "# get all the sources from the path\n",
    "sources = []\n",
    "for (dirpath, dirnames, filenames) in os.walk(sources_path):\n",
    "    sources.extend([sources_path + \"/\" + file for file in filenames])\n",
    "    break\n",
    "    \n",
    "not_sources = []\n",
    "for (dirpath, dirnames, filenames) in os.walk(not_sources_path):\n",
    "    not_sources.extend([not_sources_path + \"/\" + file for file in filenames])\n",
    "    break\n",
    "    \n",
    "# for each source create a subfolder of source_training and store the cuts\n",
    "copies = 200\n",
    "for i,source in enumerate(sources):\n",
    "    source_directory = os.path.join(root_folder, \"class_\" + str(i))\n",
    "    test_directory = os.path.join(test_folder, \"class_\" + str(i))\n",
    "    os.makedirs(source_directory)\n",
    "    os.makedirs(test_directory)\n",
    "    image = misc.imread(source)\n",
    "    for copy in range(copies):\n",
    "        image_cut = generate_cut(image)\n",
    "        im = Image.fromarray(image_cut)\n",
    "        im.save(os.path.join(source_directory, \"copy_\" + str(copy) + \".jpg\"))\n",
    "    for k in range(10):\n",
    "        test_cut = image_cut = generate_cut(image)\n",
    "        im_test = Image.fromarray(test_cut)\n",
    "        im_test.save(os.path.join(test_directory, \"test_copy_\" + str(k) + \".jpg\"))\n",
    "        \n",
    "#create another class for not_sources\n",
    "not_source_directory = os.path.join(root_folder, \"class_\" + str(len(sources)))\n",
    "test_directory_not = os.path.join(test_folder, \"class_\" + str(len(sources)))\n",
    "os.makedirs(not_source_directory) \n",
    "os.makedirs(test_directory_not)\n",
    "for i,not_source in enumerate(not_sources):\n",
    "    for copy in range(copies):\n",
    "        image_cut = generate_cut(misc.imread(not_source))\n",
    "        im = Image.fromarray(image_cut)\n",
    "        im.save(os.path.join(not_source_directory, \"copy_\" + str(i) + \"_\" + str(copy) + \".jpg\")) \n",
    "    for k in range(10):\n",
    "        test_cut = image_cut = generate_cut(image)\n",
    "        im_test = Image.fromarray(test_cut)\n",
    "        im_test.save(os.path.join(test_directory_not, \"test_copy_\" + str(k) + \".jpg\"))\n"
   ]
  },
  {
   "cell_type": "code",
   "execution_count": null,
   "metadata": {
    "collapsed": true
   },
   "outputs": [],
   "source": []
  }
 ],
 "metadata": {
  "kernelspec": {
   "display_name": "Python 3",
   "language": "python",
   "name": "python3"
  },
  "language_info": {
   "codemirror_mode": {
    "name": "ipython",
    "version": 2
   },
   "file_extension": ".py",
   "mimetype": "text/x-python",
   "name": "python",
   "nbconvert_exporter": "python",
   "pygments_lexer": "ipython2",
   "version": "2.7.12"
  }
 },
 "nbformat": 4,
 "nbformat_minor": 2
}
