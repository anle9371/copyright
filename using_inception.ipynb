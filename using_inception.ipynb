{
 "cells": [
  {
   "cell_type": "code",
   "execution_count": 1,
   "metadata": {
    "collapsed": true
   },
   "outputs": [],
   "source": [
    "import tensorflow as tf"
   ]
  },
  {
   "cell_type": "code",
   "execution_count": 38,
   "metadata": {},
   "outputs": [],
   "source": [
    "image_path = \"test/class_9/test_copy_5.jpg\"\n",
    "image_data = tf.gfile.FastGFile(image_path, \"rb\").read()\n",
    "\n",
    "labels = [line.rstrip() for line\n",
    "                in tf.gfile.GFile(\"tf_files/retrained_labels.txt\")]\n"
   ]
  },
  {
   "cell_type": "code",
   "execution_count": 39,
   "metadata": {},
   "outputs": [
    {
     "data": {
      "text/plain": [
       "['tulips', 'roses', 'dandelion', 'sunflowers', 'daisy']"
      ]
     },
     "execution_count": 39,
     "metadata": {},
     "output_type": "execute_result"
    }
   ],
   "source": [
    "labels"
   ]
  },
  {
   "cell_type": "code",
   "execution_count": 40,
   "metadata": {
    "collapsed": true
   },
   "outputs": [],
   "source": [
    "def load_graph(graph_filename):\n",
    "    with tf.gfile.FastGFile(graph_filename, 'rb') as f:\n",
    "        graph_def = tf.GraphDef()\n",
    "        graph_def.ParseFromString(f.read())\n",
    "        tf.import_graph_def(graph_def, name='my_graph')\n",
    "\n",
    "graph_path = \"tf_files/retrained_graph.pb\"\n",
    "load_graph(graph_path)"
   ]
  },
  {
   "cell_type": "code",
   "execution_count": 41,
   "metadata": {},
   "outputs": [],
   "source": [
    "with tf.Session() as sess:\n",
    "    softmax_tensor = sess.graph.get_tensor_by_name(\"my_graph/final_result:0\")\n",
    "    predictions, = sess.run(softmax_tensor, {\"my_graph/DecodeJpeg/contents:0\": image_data})"
   ]
  },
  {
   "cell_type": "code",
   "execution_count": 42,
   "metadata": {},
   "outputs": [],
   "source": [
    "most_probable = predictions.argsort()[-3:][::-1]"
   ]
  },
  {
   "cell_type": "code",
   "execution_count": 43,
   "metadata": {},
   "outputs": [
    {
     "name": "stdout",
     "output_type": "stream",
     "text": [
      "tulips  with 0.901122 probability\n",
      "dandelion  with 0.0482399 probability\n",
      "roses  with 0.0385148 probability\n"
     ]
    }
   ],
   "source": [
    "for _id in most_probable:\n",
    "    label = labels[_id]\n",
    "    score = predictions[_id]\n",
    "    print(label , \" with \" + str(score) + \" probability\")"
   ]
  },
  {
   "cell_type": "code",
   "execution_count": null,
   "metadata": {
    "collapsed": true
   },
   "outputs": [],
   "source": []
  }
 ],
 "metadata": {
  "kernelspec": {
   "display_name": "Python 3",
   "language": "python",
   "name": "python3"
  },
  "language_info": {
   "codemirror_mode": {
    "name": "ipython",
    "version": 3
   },
   "file_extension": ".py",
   "mimetype": "text/x-python",
   "name": "python",
   "nbconvert_exporter": "python",
   "pygments_lexer": "ipython3",
   "version": "3.5.3"
  }
 },
 "nbformat": 4,
 "nbformat_minor": 2
}
