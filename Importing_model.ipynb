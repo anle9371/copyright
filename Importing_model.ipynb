{
 "cells": [
  {
   "cell_type": "code",
   "execution_count": null,
   "metadata": {},
   "outputs": [],
   "source": [
    "import tensorflow as tf\n",
    "import os\n",
    "import matplotlib.pyplot as plt\n",
    "import random\n",
    "import numpy as np\n",
    "import google.datalab.storage as storage\n",
    "from PIL import Image\n",
    "from scipy import misc\n",
    "import io\n",
    "import json \n",
    "import matplotlib.pyplot as plt"
   ]
  },
  {
   "cell_type": "code",
   "execution_count": null,
   "metadata": {},
   "outputs": [],
   "source": [
    "def generate_cut(image_matrix):\n",
    "    x,y = image_matrix.shape[:2]\n",
    "    x_start = random.randint(0, int(x/2))\n",
    "    y_start = random.randint(0, int(y/2))\n",
    "    x_end = limit(x_start + int(x/2) + random.randint(0, int(x/16)), x)\n",
    "    y_end = limit(y_start + int(y/2) + random.randint(0, int(y/16)), y)\n",
    "    image_cut = image_matrix[x_start:x_end, y_start:y_end]\n",
    "    return image_cut\n",
    "  \n",
    "def limit(a, b):\n",
    "  if a < b:\n",
    "      return a\n",
    "  else: return b\n",
    "\n",
    "def prepare_image(test_sample):\n",
    "  test_stream = io.BytesIO(test_sample)\n",
    "  my_test_image = Image.open(test_stream)\n",
    "  test_image_matrix = np.asarray(my_test_image)\n",
    "  a1 = generate_cut(test_image_matrix)\n",
    "  test_input_image = misc.imresize(a1, (40, 60)).astype(\"float32\")\n",
    "  normalized_test_image = test_input_image.ravel()/255\n",
    "  test_input = np.atleast_2d(normalized_test_image)\n",
    "  distortion = Image.fromarray(a1, 'RGB')\n",
    "  #return test_input\n",
    "  return test_input, distortion\n",
    "  \n",
    "                  "
   ]
  },
  {
   "cell_type": "code",
   "execution_count": null,
   "metadata": {},
   "outputs": [],
   "source": [
    "sess = tf.Session()\n",
    "new_saver = tf.train.import_meta_graph('gs://copyright/models/convolutional_network/convolutional_network.meta')\n",
    "new_saver.restore(sess, tf.train.latest_checkpoint('gs://copyright/models/convolutional_network/'))\n",
    "#new_saver = tf.train.import_meta_graph('convolutional_network.meta')\n",
    "#new_saver.restore(sess, tf.train.latest_checkpoint('./'))\n",
    "\n",
    "graph = tf.get_default_graph() \n",
    "x = graph.get_tensor_by_name(\"input:0\")\n",
    "y = graph.get_tensor_by_name(\"output:0\")"
   ]
  },
  {
   "cell_type": "code",
   "execution_count": null,
   "metadata": {},
   "outputs": [],
   "source": [
    "sample_bucket = storage.Bucket(\"copyright\")\n",
    "test_data = [_object for _object in sample_bucket.objects()\n",
    "             if \"train\" not in _object.key and \".jpg\" in _object.key and \"test\" not in _object.key]\n",
    "\n",
    "test_data = test_data[0:10]\n",
    "# test_sample = test_data[8].download()\n",
    "# test_stream = io.BytesIO(test_sample)\n",
    "# my_test_image = Image.open(test_stream)\n",
    "# my_test_image"
   ]
  },
  {
   "cell_type": "code",
   "execution_count": null,
   "metadata": {},
   "outputs": [],
   "source": [
    "with open('images.json', 'r') as f:\n",
    "     data = json.load(f)"
   ]
  },
  {
   "cell_type": "code",
   "execution_count": null,
   "metadata": {
    "collapsed": true
   },
   "outputs": [],
   "source": [
    "def predict_source(testlist):\n",
    "  sd = []\n",
    "  sd_labels = []\n",
    "  for i in range(len(testlist)):\n",
    "    my_test_sample = testlist[i].download()\n",
    "    test_input, distortion = prepare_image(my_test_sample)\n",
    "\n",
    "    get_output = tf.argmax(y,1) \n",
    "    predicted_class = sess.run(get_output, feed_dict={x: test_input})[0]\n",
    "    fname = data[str(predicted_class)][0]\n",
    "    predicted_gcs_obj = [obj for obj in sample_bucket.objects(prefix = 'sources/', delimiter = '/') if fname == obj.key]\n",
    "    predicted_gcs_obj_1 = predicted_gcs_obj[0].download()\n",
    "    predicted_gcs_obj_stream = io.BytesIO(predicted_gcs_obj_1)\n",
    "    predicted_image = Image.open(predicted_gcs_obj_stream)\n",
    "    \n",
    "    my_test_stream = io.BytesIO(my_test_sample)\n",
    "    my_test_image = Image.open(my_test_stream)\n",
    "    \n",
    "    sd.append(distortion)\n",
    "    sd.append(my_test_image)\n",
    "    sd.append(predicted_image)\n",
    "    sd_labels.append(\"distortion | \"+ testlist[i].key)\n",
    "    sd_labels.append(\"original | \" + testlist[i].key)\n",
    "    sd_labels.append(\"predicted | \" + fname)\n",
    "  return sd, sd_labels"
   ]
  },
  {
   "cell_type": "code",
   "execution_count": null,
   "metadata": {
    "collapsed": true
   },
   "outputs": [],
   "source": [
    "def view_results(df, variables, n_rows, n_cols):   \n",
    "    fig = plt.figure(figsize=(18, 16), dpi= 80, facecolor='w', edgecolor='k')\n",
    "    r = {}\n",
    "    for i, var_name in enumerate(variables):\n",
    "        ax = fig.add_subplot(n_rows, n_cols, i+1)\n",
    "        plt.tight_layout()\n",
    "        ax.imshow(df[i])\n",
    "        ax.set_title(\"%s\" % (var_name))     \n",
    "        ax.grid(False)\n",
    "        ax.set_xticks([])\n",
    "        ax.set_yticks([])\n",
    "    plt.show()\n",
    "    return r"
   ]
  },
  {
   "cell_type": "code",
   "execution_count": null,
   "metadata": {
    "collapsed": true
   },
   "outputs": [],
   "source": [
    "sd, sd_labels = predict_source(test_data)"
   ]
  },
  {
   "cell_type": "code",
   "execution_count": null,
   "metadata": {
    "collapsed": true
   },
   "outputs": [],
   "source": [
    "r = view_results(sd, sd_labels, len(test_data), 3)"
   ]
  }
 ],
 "metadata": {
  "kernelspec": {
   "display_name": "Python 3",
   "language": "python",
   "name": "python3"
  },
  "language_info": {
   "codemirror_mode": {
    "name": "ipython",
    "version": 3
   },
   "file_extension": ".py",
   "mimetype": "text/x-python",
   "name": "python",
   "nbconvert_exporter": "python",
   "pygments_lexer": "ipython3",
   "version": "3.6.1"
  }
 },
 "nbformat": 4,
 "nbformat_minor": 2
}
